{
 "cells": [
  {
   "cell_type": "markdown",
   "metadata": {},
   "source": [
    "### 1. Descomposición LU"
   ]
  },
  {
   "cell_type": "code",
   "execution_count": 55,
   "metadata": {},
   "outputs": [],
   "source": [
    "def descompLU(A, b):\n",
    "    \"\"\"Realiza la descomposición LU\n",
    "    \n",
    "    El parametro b no es utulizado.\n",
    "    \"\"\"\n",
    "    # Obtenemos el numero de filas\n",
    "    n = len(A)\n",
    "\n",
    "    # Llenamos la diagonal de la matriz L con 1\n",
    "    L = [[0 if i!=j else 1 for j in range(n)] for i in range(n)]\n",
    "    \n",
    "    # Igualamos U a la matriz A\n",
    "    # No copiamos directamente con U = A por que cualquier alteracion\n",
    "    # en U tambien alterará las componentes de A\n",
    "    U = [[A[i][j] for j in range(n)] for i in range(n)]\n",
    "    \n",
    "    for i in range(0, n):\n",
    "        # Para cada fila i, accedemos a la columna i+1 hasta el final\n",
    "        # y dividimos por el coefiente diagonal A(k ,k)\n",
    "        for k in range(i+1, n):\n",
    "            L[k][i] = U[k][i] / U[i][i]\n",
    "            \n",
    "            # Para cada fila desde i+i hasta el final, realizamos\n",
    "            # eliminacion Gausiana. Al final preservaremos solo \n",
    "            # la diagonal superior de A.\n",
    "            for l in range(i+1, n):\n",
    "                U[k][l] = U[k][l] - L[k][i] * U[i][l]\n",
    "                \n",
    "    U = [[U[i][j] if i<=j else 0 for j in range(n)] for i in range(n)]\n",
    "    \n",
    "    return L, U"
   ]
  },
  {
   "cell_type": "code",
   "execution_count": 56,
   "metadata": {},
   "outputs": [],
   "source": [
    "def printMatrix(M, matrix_name='M'):\n",
    "    m = len(M)\n",
    "    n = len(M[0])\n",
    "    \n",
    "    print(\"{0} = [\".format(matrix_name))\n",
    "    for i in range(m):\n",
    "        print(\"    [\", end='')\n",
    "        for j in range(n):\n",
    "            print(\"{0:11.6f}\".format(M[i][j]), end='')\n",
    "        print(\"]\")\n",
    "    print(\"]\")"
   ]
  },
  {
   "cell_type": "code",
   "execution_count": 57,
   "metadata": {},
   "outputs": [
    {
     "name": "stdout",
     "output_type": "stream",
     "text": [
      "A = [\n",
      "    [   3.452979   3.238592  15.608785]\n",
      "    [  11.666701   9.214550   0.409227]\n",
      "    [   2.415566   4.245479  14.264606]\n",
      "]\n",
      "\n",
      "L = [\n",
      "    [   1.000000   0.000000   0.000000]\n",
      "    [   3.378735   1.000000   0.000000]\n",
      "    [   0.699560  -1.145905   1.000000]\n",
      "]\n",
      "\n",
      "U = [\n",
      "    [   3.452979   3.238592  15.608785]\n",
      "    [   0.000000  -1.727795 -52.328720]\n",
      "    [   0.000000   0.000000 -56.618408]\n",
      "]\n",
      "\n",
      "LU = [\n",
      "    [   3.452979   3.238592  15.608785]\n",
      "    [  11.666701   9.214550   0.409227]\n",
      "    [   2.415566   4.245479  14.264606]\n",
      "]\n"
     ]
    }
   ],
   "source": [
    "from random import random\n",
    "from scipy import matmul\n",
    "\n",
    "n = 3\n",
    "A = [[20*random() for j in range(n)] for i in range(n)]\n",
    "b = [20*random() for i in range(n)]\n",
    "\n",
    "L, U = descompLU(A, b)\n",
    "\n",
    "printMatrix(A, 'A')\n",
    "print()\n",
    "printMatrix(L, 'L')\n",
    "print()\n",
    "printMatrix(U, 'U')\n",
    "print()\n",
    "printMatrix(matmul(L, U), 'LU')"
   ]
  },
  {
   "cell_type": "markdown",
   "metadata": {},
   "source": [
    "### 2. Interpolación de Richarson"
   ]
  },
  {
   "cell_type": "code",
   "execution_count": 58,
   "metadata": {},
   "outputs": [],
   "source": [
    "def dRich(f, x, s, n, h):\n",
    "    # Llenamos la matriz de extrapolacion con ceros\n",
    "    D = [[0 for j in range(n+1)] for i in range(n+1)]\n",
    "\n",
    "    # Llenamos la primera columna con las formulas \n",
    "    # de diferencias centrales\n",
    "    for i in range(n+1):\n",
    "        D[i][0] = (f(x + h) - 2 * f(x) + f(x-h)) / (h**2)\n",
    "        \n",
    "        if s == 'central':\n",
    "            powerOf4 = 1\n",
    "            \n",
    "            for j in range(1, i+1):\n",
    "                powerOf4 = 4 * powerOf4\n",
    "                D[i][j] = D[i][j-1] + ( D[i][j-1] - D[i-1][j-1] ) / ( powerOf4 - 1 )\n",
    "\n",
    "        elif s == 'forward':\n",
    "            powerOf2 = 1\n",
    "\n",
    "            for j in range(1, i+1):\n",
    "                powerOf2 = 2 * powerOf2\n",
    "                D[i][j] = D[i][j-1] + ( D[i][j-1] - D[i-1][j-1] ) / ( powerOf2 - 1 )\n",
    "        else:\n",
    "            raise(ValueError(\"Value of `s' parameter must be one of `cental' or `forward'\"))\n",
    "        h = 0.5 * h\n",
    "\n",
    "    return D[n][n]"
   ]
  },
  {
   "cell_type": "code",
   "execution_count": 59,
   "metadata": {},
   "outputs": [
    {
     "data": {
      "image/png": "[encoded data removed]",
      "text/plain": [
       "<matplotlib.figure.Figure at 0x7f1b92d909e8>"
      ]
     },
     "metadata": {},
     "output_type": "display_data"
    }
   ],
   "source": [
    "from math import pi\n",
    "from math import sin\n",
    "from math import ceil\n",
    "from matplotlib import pylab\n",
    "\n",
    "def f(x):\n",
    "    s = sin(x)  \n",
    "    return s - s**2 + s**3\n",
    "\n",
    "m = 3001\n",
    "Xmin = 0\n",
    "Xmax = 5*pi\n",
    "Xstep = (Xmax - Xmin) / (m - 1)\n",
    "X = [Xmin + i*Xstep for i in range(0, m)]\n",
    "Y = [f(x) for x in X]\n",
    "\n",
    "n = 10\n",
    "h = Xstep\n",
    "\n",
    "s = 'central'\n",
    "DC2Y = [dRich(f, x, s, n, Xstep) for x in X]\n",
    "\n",
    "s = 'forward'\n",
    "DF2Y = [dRich(f, x, s, n, Xstep) for x in X]\n",
    "\n",
    "pylab.figure(figsize=(7,7))\n",
    "pylab.plot(X,DC2Y, 'g--', label='Richardson Second Derivative (Central Scheme)')\n",
    "pylab.plot(X,DF2Y, 'r--', label='Richardson Second Derivative (Forward Scheme)')\n",
    "pylab.plot(X,Y, 'b-', label='f(x) = sin(x) - sin(x)^2 + sin(x)^3')\n",
    "pylab.gca().set_aspect('equal', 'datalim')\n",
    "pylab.xlabel('x')\n",
    "pylab.xlim([0,ceil(Xmax)])\n",
    "pylab.ylabel('y')\n",
    "pylab.ylim([-4,8])\n",
    "pylab.legend()\n",
    "pylab.grid()\n",
    "pylab.show()"
   ]
  },
  {
   "cell_type": "markdown",
   "metadata": {},
   "source": [
    "### 3. Richardson Integration"
   ]
  },
  {
   "cell_type": "code",
   "execution_count": 60,
   "metadata": {},
   "outputs": [],
   "source": [
    "def iRich(f, a, b, e):\n",
    "    R = []\n",
    "    h = b - a\n",
    "    R.append([0.5 * h * ( f( a ) + f( b ) )])\n",
    "    E = [0]\n",
    "    \n",
    "    i = 0\n",
    "    powerOf2 = 1\n",
    "\n",
    "    while(True):\n",
    "        i = i + 1\n",
    "        \n",
    "        # Calculamos la mitad del paso en x y usamos este valor para sumar la \n",
    "        # función en todos los nuevos puntos (en medio de los puntos ya\n",
    "        # calculados)\n",
    "        h = 0.5 * h\n",
    "        sum = 0.0\n",
    "        powerOf2 = 2 * powerOf2\n",
    "        \n",
    "        for k in range(1, powerOf2, 2):\n",
    "            sum = sum + f(a + k * h)\n",
    "        \n",
    "        # Calculamos la regla compuesta del trapecio para el siguiente\n",
    "        # nivel de subdivisión. Usamos la regla de Richarson para refinar \n",
    "        # estos valores en una forma mas adecuada.\n",
    "        R.append([])\n",
    "        R[-1].append(0.5 * R[i-1][0] + sum * h)\n",
    "        \n",
    "        # Verificar si el algoritmo fallará\n",
    "        if i > 2:\n",
    "            E[i-1] = (R[i-2][0] - R[i-1][0]) / (R[i-1][0] - R[i][0])\n",
    "            # Hacer la condición explicita\n",
    "            # if E[i-1]:\n",
    "            #     break\n",
    "            \n",
    "        powerOf4 = 1\n",
    "        for j in range(1, i + 1):\n",
    "            powerOf4 = 4 * powerOf4\n",
    "            R[-1].append(R[i][j-1] + (R[i][j-1] - R[i-1][j-1]) / (powerOf4 - 1))\n",
    "        \n",
    "        E.append(0)\n",
    "            \n",
    "        if i >= 5 and e >= abs(R[i][i] - R[i-1][i-1]):\n",
    "            break \n",
    "            \n",
    "    return E, R"
   ]
  },
  {
   "cell_type": "code",
   "execution_count": 61,
   "metadata": {},
   "outputs": [],
   "source": [
    "from math import pi\n",
    "from math import sin\n",
    "from math import exp\n",
    "\n",
    "def f(x):\n",
    "    return 1.0 / ((x**2) + 1) + exp(-x) - 2**sin(5*x) + 2\n",
    "\n",
    "e, r = iRich(f, 0, 2, 0.00000000001)"
   ]
  },
  {
   "cell_type": "code",
   "execution_count": 62,
   "metadata": {},
   "outputs": [
    {
     "name": "stdout",
     "output_type": "stream",
     "text": [
      " 0.00000000  4.64947868 \n",
      " 0.00000000  4.67817842  4.68774501 \n",
      "11.45211507  3.59277446  3.23097314  3.13385501 \n",
      " 3.93480310  3.49799686  3.46640433  3.48209974  3.48762743 \n",
      " 3.99764596  3.47390986  3.46588086  3.46584596  3.46558797  3.46550154 \n",
      " 4.00222633  3.46788457  3.46587613  3.46587582  3.46587629  3.46587742  3.46587779 \n",
      " 4.00076482  3.46637908  3.46587725  3.46587732  3.46587735  3.46587735  3.46587735  3.46587735 \n",
      " 4.00020356  3.46600278  3.46587735  3.46587735  3.46587735  3.46587735  3.46587735  3.46587735  3.46587735 \n",
      " 4.00005165  3.46590871  3.46587735  3.46587735  3.46587735  3.46587735  3.46587735  3.46587735  3.46587735  3.46587735 \n",
      " 0.00000000  3.46588519  3.46587735  3.46587735  3.46587735  3.46587735  3.46587735  3.46587735  3.46587735  3.46587735  3.46587735 \n"
     ]
    }
   ],
   "source": [
    "for t, row in zip(e, r):\n",
    "    print(\"{0: >11.8f} \".format(t), end=\"\")\n",
    "    \n",
    "    for item in row:\n",
    "        print(\"{0: >11.8f} \".format(item), end=\"\")\n",
    "    print()"
   ]
  },
  {
   "cell_type": "code",
   "execution_count": 63,
   "metadata": {},
   "outputs": [],
   "source": [
    "from math import pi\n",
    "from math import cos\n",
    "from math import log\n",
    "\n",
    "def f(x):\n",
    "    return log(1+x) - x**2 + abs(cos(x**4))\n",
    "\n",
    "e, r = iRich(f, 0, 2, 0.001)"
   ]
  },
  {
   "cell_type": "code",
   "execution_count": 64,
   "metadata": {},
   "outputs": [
    {
     "name": "stdout",
     "output_type": "stream",
     "text": [
      " 0.00000000 -0.94372823 \n",
      " 0.00000000 -0.23841463 -0.00331010 \n",
      " 0.70086887 -0.03780459  0.02906542  0.03122379 \n",
      "28.02812602  0.24842590  0.34383606  0.36482077  0.37011596 \n",
      "-0.08782135  0.25863815  0.26204224  0.25658932  0.25487136  0.25441942 \n",
      "-5.33719093  0.14235369  0.10359220  0.09302886  0.09043267  0.08978781  0.08962688 \n",
      " 8.17334694  0.16414127  0.17140379  0.17592457  0.17724037  0.17758079  0.17766661  0.17768811 \n",
      "10.86780916  0.16680695  0.16769552  0.16744830  0.16731375  0.16727482  0.16726475  0.16726221  0.16726157 \n",
      " 0.00000000  0.16705224  0.16713400  0.16709656  0.16709098  0.16709011  0.16708992  0.16708988  0.16708987  0.16708987 \n"
     ]
    }
   ],
   "source": [
    "for t, row in zip(e, r):\n",
    "    print(\"{0: >11.8f} \".format(t), end=\"\")\n",
    "    \n",
    "    for item in row:\n",
    "        print(\"{0: >11.8f} \".format(item), end=\"\")\n",
    "    print()"
   ]
  },
  {
   "cell_type": "markdown",
   "metadata": {},
   "source": [
    "### 4. Gauss Jordan"
   ]
  },
  {
   "cell_type": "code",
   "execution_count": 101,
   "metadata": {},
   "outputs": [],
   "source": [
    "def elimGJ(A, B):\n",
    "    n = len(A)\n",
    "    if n != len(A[0]):\n",
    "        raise ValueError(\"Matrix A must be square\")\n",
    "        \n",
    "    if n != len(B):\n",
    "        raise ValueError(\"Matrix A and B are not compatible\")\n",
    "    \n",
    "    try:\n",
    "        bVectors = list(map(list, zip(*B)))\n",
    "    except:\n",
    "        bVectors = [B]\n",
    "        \n",
    "    xVectors = []\n",
    "    \n",
    "    for b in bVectors:\n",
    "        m = [[A[i][j] for j in range(n)] for i in range(n)]\n",
    "        \n",
    "        for rowH, bItem in zip(m,b):\n",
    "            rowH.append(bItem)\n",
    "    \n",
    "        h, w = len(m), len(m[0])\n",
    "        \n",
    "        for y in range(h):\n",
    "            # Eliminamos la columna Y\n",
    "            for y2 in range(y + 1, h):\n",
    "                c = m[y2][y] / m[y][y]\n",
    "                for x in range(y, w):\n",
    "                    m[y2][x] -= m[y][x] * c\n",
    "        for y in range(h-1, 0-1, -1): # Backsubstitute\n",
    "            c    = m[y][y]\n",
    "            for y2 in range(0,y):\n",
    "                for x in range(w-1, y-1, -1):\n",
    "                    m[y2][x] -=    m[y][x] * m[y2][y] / c\n",
    "            m[y][y] /= c\n",
    "            for x in range(h, w):             # Normalize row y\n",
    "                m[y][x] /= c\n",
    "        \n",
    "        xVectors.append([])\n",
    "        \n",
    "        for row in m:\n",
    "            xVectors[-1].append(row[-1]);\n",
    "            \n",
    "    if len(xVectors) == 1:\n",
    "        return xVectors[0]\n",
    "    \n",
    "    return list(map(list, zip(*xVectors)))"
   ]
  },
  {
   "cell_type": "code",
   "execution_count": 131,
   "metadata": {},
   "outputs": [],
   "source": [
    "def printMatrix(M, matrix_name='M'):\n",
    "    m = len(M)\n",
    "    n = len(M[0])\n",
    "    \n",
    "    print(\"{0} = [\".format(matrix_name))\n",
    "    for i in range(m):\n",
    "        print(\"    [\", end='')\n",
    "        for j in range(n):\n",
    "            print(\"{0:11.6f}\".format(M[i][j]), end='')\n",
    "        print(\"]\")\n",
    "    print(\"]\")"
   ]
  },
  {
   "cell_type": "code",
   "execution_count": 132,
   "metadata": {},
   "outputs": [],
   "source": [
    "def printVector(M, vector_name='M'):\n",
    "    m = len(M)\n",
    "    \n",
    "    print(\"{0} = [\".format(vector_name))\n",
    "    for i in range(m):\n",
    "        print(\"{0:11.6f}\".format(M[i]))\n",
    "    print(\"]\")"
   ]
  },
  {
   "cell_type": "code",
   "execution_count": 133,
   "metadata": {},
   "outputs": [
    {
     "name": "stdout",
     "output_type": "stream",
     "text": [
      "A = [\n",
      "    [   1.000000   2.000000   4.000000]\n",
      "    [   1.000000   3.000000   0.000000]\n",
      "    [   1.000000   5.000000   5.000000]\n",
      "]\n",
      "B = [\n",
      "    [   5.000000   8.000000]\n",
      "    [   1.000000   2.000000]\n",
      "    [   3.000000   3.000000]\n",
      "]\n",
      "X1 = [\n",
      "   3.769231\n",
      "  -0.923077\n",
      "   0.769231\n",
      "]\n",
      "X2 = [\n",
      "   8.000000\n",
      "  -2.000000\n",
      "   1.000000\n",
      "]\n",
      "A * X1 = [\n",
      "   5.000000\n",
      "   1.000000\n",
      "   3.000000\n",
      "]\n",
      "A * X2 = [\n",
      "   8.000000\n",
      "   2.000000\n",
      "   3.000000\n",
      "]\n"
     ]
    }
   ],
   "source": [
    "A = [\n",
    "    [1.0,2.0,4.0],\n",
    "    [1.0,3.0,0.0],\n",
    "    [1.0,5.0,5.0]\n",
    "]\n",
    "\n",
    "B = [\n",
    "    [5.0, 8.0],\n",
    "    [1.0, 2.0],\n",
    "    [3.0, 3.0]\n",
    "]\n",
    "\n",
    "X1, X2 = zip(*elimGJ(A,B))\n",
    "\n",
    "printMatrix(A, 'A')\n",
    "printMatrix(B, 'B')\n",
    "printVector(X1, 'X1')\n",
    "printVector(X2, 'X2')\n",
    "printVector(matmul(A, X1), 'A * X1')\n",
    "printVector(matmul(A, X2), 'A * X2')"
   ]
  },
  {
   "cell_type": "code",
   "execution_count": 134,
   "metadata": {},
   "outputs": [
    {
     "name": "stdout",
     "output_type": "stream",
     "text": [
      "A = [\n",
      "    [   1.000000   2.000000   3.000000]\n",
      "    [   4.000000   5.000000   6.000000]\n",
      "    [   1.000000   0.000000   1.000000]\n",
      "]\n",
      "B = [\n",
      "   1.000000\n",
      "   1.000000\n",
      "   1.000000\n",
      "]\n",
      "X = [\n",
      "   0.000000\n",
      "  -1.000000\n",
      "   1.000000\n",
      "]\n",
      "A * X = [\n",
      "   1.000000\n",
      "   1.000000\n",
      "   1.000000\n",
      "]\n"
     ]
    }
   ],
   "source": [
    "A = [\n",
    "    [1., 2., 3.],\n",
    "    [4., 5., 6.],\n",
    "    [1., 0., 1.]\n",
    "]\n",
    "\n",
    "B = [1., 1., 1.]\n",
    "\n",
    "X = elimGJ(A,B)\n",
    "\n",
    "printMatrix(A, 'A')\n",
    "printVector(B, 'B')\n",
    "printVector(X, 'X')\n",
    "printVector(matmul(A, X), 'A * X')"
   ]
  },
  {
   "cell_type": "code",
   "execution_count": null,
   "metadata": {},
   "outputs": [],
   "source": []
  }
 ],
 "metadata": {
  "kernelspec": {
   "display_name": "Python 3",
   "language": "python",
   "name": "python3"
  },
  "language_info": {
   "codemirror_mode": {
    "name": "ipython",
    "version": 3
   },
   "file_extension": ".py",
   "mimetype": "text/x-python",
   "name": "python",
   "nbconvert_exporter": "python",
   "pygments_lexer": "ipython3",
   "version": "3.6.3"
  }
 },
 "nbformat": 4,
 "nbformat_minor": 2
}
